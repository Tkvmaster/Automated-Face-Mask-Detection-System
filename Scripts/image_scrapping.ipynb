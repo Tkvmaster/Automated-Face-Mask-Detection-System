{
 "cells": [
  {
   "cell_type": "code",
   "execution_count": 1,
   "id": "97bfc1c5",
   "metadata": {
    "scrolled": false
   },
   "outputs": [],
   "source": [
    "from selenium import webdriver\n",
    "import urllib\n",
    "import os\n",
    "import requests\n",
    "import io\n",
    "from PIL import *\n",
    "from PIL import Image\n",
    "import hashlib\n",
    "import time\n",
    "from selenium.webdriver.common.by import By"
   ]
  },
  {
   "cell_type": "code",
   "execution_count": 2,
   "id": "b74092b6",
   "metadata": {},
   "outputs": [],
   "source": [
    "# from selenium.webdriver.chrome.service import Service\n",
    "# from webdriver_manager.chrome import ChromeDriverManager\n",
    "# s=Service(ChromeDriverManager().install())"
   ]
  },
  {
   "cell_type": "code",
   "execution_count": 3,
   "id": "454c48cd",
   "metadata": {},
   "outputs": [],
   "source": [
    "DRIVER_PATH = r'C:\\Users\\tapen\\.wdm\\drivers\\chromedriver\\win32\\96.0.4664.45\\chromedriver.exe'"
   ]
  },
  {
   "cell_type": "code",
   "execution_count": 4,
   "id": "611e1ba8",
   "metadata": {},
   "outputs": [],
   "source": [
    "from selenium import webdriver\n",
    "from selenium.webdriver.chrome.service import Service\n",
    "ser = Service(DRIVER_PATH)\n",
    "op = webdriver.ChromeOptions()"
   ]
  },
  {
   "cell_type": "code",
   "execution_count": 21,
   "id": "9135d1d1",
   "metadata": {},
   "outputs": [],
   "source": [
    "def fetch_image_urls(query:str, max_links_to_fetch:int, wd:webdriver, sleep_between_interactions:int=1):\n",
    "    def scroll_to_end(wd):\n",
    "        wd.execute_script(\"window.scrollTo(0, document.body.scrollHeight);\")\n",
    "        time.sleep(sleep_between_interactions)    \n",
    "    \n",
    "    # build the google query\n",
    "    search_url = \"https://www.google.com/search?safe=off&site=&tbm=isch&source=hp&q={q}&oq={q}&gs_l=img\"\n",
    "\n",
    "    # load the page\n",
    "    wd.get(search_url.format(q=query))\n",
    "\n",
    "    image_urls = set()\n",
    "    image_count = 0\n",
    "    results_start = 0\n",
    "    while image_count < max_links_to_fetch:\n",
    "        scroll_to_end(wd)\n",
    "\n",
    "        # get all image thumbnail results\n",
    "        thumbnail_results = wd.find_elements_by_css_selector(\"img.Q4LuWd\")\n",
    "        number_results = len(thumbnail_results)\n",
    "        \n",
    "        print(f\"Found: {number_results} search results. Extracting links from {results_start}:{number_results}\")\n",
    "        \n",
    "        for img in thumbnail_results[results_start:number_results]:\n",
    "            # try to click every thumbnail such that we can get the real image behind it\n",
    "            try:\n",
    "                img.click()\n",
    "                time.sleep(sleep_between_interactions)\n",
    "            except Exception:\n",
    "                continue\n",
    "\n",
    "            # extract image urls    \n",
    "            actual_images = wd.find_elements_by_css_selector('img.n3VNCb')\n",
    "            for actual_image in actual_images:\n",
    "                if actual_image.get_attribute('src') and 'http' in actual_image.get_attribute('src'):\n",
    "                    image_urls.add(actual_image.get_attribute('src'))\n",
    "\n",
    "            image_count = len(image_urls)\n",
    "\n",
    "            if len(image_urls) >= max_links_to_fetch:\n",
    "                print(f\"Found: {len(image_urls)} image links, done!\")\n",
    "                break\n",
    "        else:\n",
    "            print(\"Found:\", len(image_urls), \"image links, looking for more ...\")\n",
    "            time.sleep(30)\n",
    "            return\n",
    "            load_more_button = wd.find_element_by_css_selector(\".mye4qd\")\n",
    "            if load_more_button:\n",
    "                wd.execute_script(\"document.querySelector('.mye4qd').click();\")\n",
    "\n",
    "        # move the result startpoint further down\n",
    "        results_start = len(thumbnail_results)\n",
    "\n",
    "    return image_urls\n"
   ]
  },
  {
   "cell_type": "code",
   "execution_count": 22,
   "id": "8aca0dc8",
   "metadata": {},
   "outputs": [],
   "source": [
    "def persist_image(folder_path:str,url:str):\n",
    "    try:\n",
    "        image_content = requests.get(url).content\n",
    "\n",
    "    except Exception as e:\n",
    "        print(f\"ERROR - Could not download {url} - {e}\")\n",
    "\n",
    "    try:\n",
    "        image_file = io.BytesIO(image_content)\n",
    "        image = Image.open(image_file).convert('RGB')\n",
    "        file_path = os.path.join(folder_path,hashlib.sha1(image_content).hexdigest()[:10] + '.jpg')\n",
    "        with open(file_path, 'wb') as f:\n",
    "            image.save(f, \"JPEG\", quality=85)\n",
    "        print(f\"SUCCESS - saved {url} - as {file_path}\")\n",
    "    except Exception as e:\n",
    "        print(f\"ERROR - Could not save {url} - {e}\")\n"
   ]
  },
  {
   "cell_type": "code",
   "execution_count": 23,
   "id": "e04034da",
   "metadata": {},
   "outputs": [],
   "source": [
    "def search_and_download(search_term:str,driver_path:str,target_path='./images',number_images=50):\n",
    "    target_folder = os.path.join(target_path,'_'.join(search_term.lower().split(' ')))\n",
    "\n",
    "    if not os.path.exists(target_folder):\n",
    "        os.makedirs(target_folder)\n",
    "\n",
    "    with webdriver.Chrome(service=ser, options=op) as wd:\n",
    "        res = fetch_image_urls(search_term, number_images, wd=wd, sleep_between_interactions=0.5)\n",
    "        \n",
    "    for elem in res:\n",
    "        persist_image(target_folder,elem)"
   ]
  },
  {
   "cell_type": "code",
   "execution_count": 24,
   "id": "86416ad6",
   "metadata": {},
   "outputs": [
    {
     "name": "stderr",
     "output_type": "stream",
     "text": [
      "<ipython-input-21-6fae6806c786>:19: DeprecationWarning: find_elements_by_* commands are deprecated. Please use find_elements() instead\n",
      "  thumbnail_results = wd.find_elements_by_css_selector(\"img.Q4LuWd\")\n"
     ]
    },
    {
     "name": "stdout",
     "output_type": "stream",
     "text": [
      "Found: 100 search results. Extracting links from 0:100\n"
     ]
    },
    {
     "name": "stderr",
     "output_type": "stream",
     "text": [
      "<ipython-input-21-6fae6806c786>:33: DeprecationWarning: find_elements_by_* commands are deprecated. Please use find_elements() instead\n",
      "  actual_images = wd.find_elements_by_css_selector('img.n3VNCb')\n"
     ]
    },
    {
     "name": "stdout",
     "output_type": "stream",
     "text": [
      "Found: 50 image links, done!\n",
      "SUCCESS - saved https://m.economictimes.com/thumb/msid-77782370,width-1200,height-900,resizemode-4,imgsize-319096/masks-may-protect-the-people-wearing-them-by-reducing-the-amount-of-droplets-from-others-that-might-make-contact-with-them-.jpg - as ./images\\person_wearing_face_mask\\0fb6b36af4.jpg\n",
      "SUCCESS - saved https://image.cnbcfm.com/api/v1/image/106467352-1585602933667virus-medical-flu-mask-health-protection-woman-young-outdoor-sick-pollution-protective-danger-face_t20_o07dbe.jpg?v=1585602987 - as ./images\\person_wearing_face_mask\\2d7d0ca293.jpg\n",
      "SUCCESS - saved https://encrypted-tbn0.gstatic.com/images?q=tbn:ANd9GcQkciCDI2_CBzKLEqKnqTjOW5xKSzYg4OHmbg&usqp=CAU - as ./images\\person_wearing_face_mask\\92e716813a.jpg\n",
      "SUCCESS - saved https://i.insider.com/5e583363fee23d3fd10eac33?width=1136&format=jpeg - as ./images\\person_wearing_face_mask\\790738e811.jpg\n",
      "SUCCESS - saved https://encrypted-tbn0.gstatic.com/images?q=tbn:ANd9GcTe75ZSN1AldHBqdLGduThuq0fD9d3qd2pCRg&usqp=CAU - as ./images\\person_wearing_face_mask\\8580915a48.jpg\n",
      "SUCCESS - saved https://encrypted-tbn0.gstatic.com/images?q=tbn:ANd9GcTSIpf0edEGvmbqXJ6OjltIlOsi27Wme4j64w&usqp=CAU - as ./images\\person_wearing_face_mask\\3ba56d91df.jpg\n",
      "SUCCESS - saved https://encrypted-tbn0.gstatic.com/images?q=tbn:ANd9GcQzA4exJCVp_RdSduueLvoE05YiSimQXUudEA&usqp=CAU - as ./images\\person_wearing_face_mask\\d1787c04f6.jpg\n",
      "SUCCESS - saved https://media-cldnry.s-nbcnews.com/image/upload/t_social_share_1024x512_center,f_auto,q_auto:best/newscms/2020_23/1576003/smile-mask-kb-main-200603.jpg - as ./images\\person_wearing_face_mask\\7a7250d575.jpg\n",
      "SUCCESS - saved https://encrypted-tbn0.gstatic.com/images?q=tbn:ANd9GcQ6kGD8iFdkwfLMF17Zzgyxee-snO6Xwlnm5Q&usqp=CAU - as ./images\\person_wearing_face_mask\\bd507268fe.jpg\n",
      "SUCCESS - saved https://post.healthline.com/wp-content/uploads/2020/06/Face_Masks_Street_1200x628-facebook-1200x628.jpg - as ./images\\person_wearing_face_mask\\1252eb5aa8.jpg\n",
      "SUCCESS - saved https://encrypted-tbn0.gstatic.com/images?q=tbn:ANd9GcRae9p23IFR7MfzjnIF9KpeytqOkWR7FJVmYw&usqp=CAU - as ./images\\person_wearing_face_mask\\880e4effe7.jpg\n",
      "SUCCESS - saved https://encrypted-tbn0.gstatic.com/images?q=tbn:ANd9GcSivkHsemulnrYa_9V8R49mE43vx5xUoqd3IQ&usqp=CAU - as ./images\\person_wearing_face_mask\\bdb0c1a496.jpg\n",
      "SUCCESS - saved https://encrypted-tbn0.gstatic.com/images?q=tbn:ANd9GcRcqLILT-BjVNOQqXUWVro00Ayzz4RWsrqxYA&usqp=CAU - as ./images\\person_wearing_face_mask\\c13bbd1d8a.jpg\n",
      "SUCCESS - saved https://encrypted-tbn0.gstatic.com/images?q=tbn:ANd9GcRscw3Bqfx6w_kV1GR2FVK7jmt9y4CEc_rY3w&usqp=CAU - as ./images\\person_wearing_face_mask\\3194b33b7c.jpg\n",
      "ERROR - Could not save https://www.unicef.org/sudan/sites/unicef.org.sudan/files/styles/hero_mobile/public/1920x1080%20Banner%202.jpg?itok=33RqrrbX - cannot identify image file <_io.BytesIO object at 0x000001490A433B30>\n",
      "SUCCESS - saved https://media.wired.co.uk/photos/606d9aa687b15dc95f9cc36e/master/w_1600%2Cc_limit/gettyimages-1226600739.jpg - as ./images\\person_wearing_face_mask\\27cf1a5d23.jpg\n",
      "SUCCESS - saved https://encrypted-tbn0.gstatic.com/images?q=tbn:ANd9GcSX8Z-B-7vZ66_As5EzKoOd_BVwcqr-lpBDUQ&usqp=CAU - as ./images\\person_wearing_face_mask\\13c2b351c7.jpg\n",
      "SUCCESS - saved https://images.ctfassets.net/cnu0m8re1exe/3HYTbjlxl6b9Bk9ATJ2P1L/d847dfcc4b90b75847553f4be916b421/shutterstock_1704465010.jpg?fm=jpg&fl=progressive&w=660&h=433&fit=fill - as ./images\\person_wearing_face_mask\\d790fbf36e.jpg\n",
      "SUCCESS - saved https://2rdnmg1qbg403gumla1v9i2h-wpengine.netdna-ssl.com/wp-content/uploads/sites/3/2020/10/faceMasksProtectCouple-1273627467-770x553-1-650x428.jpg - as ./images\\person_wearing_face_mask\\bd11b1b931.jpg\n",
      "SUCCESS - saved https://ichef.bbci.co.uk/news/976/cpsprodpb/12C76/production/_116381967_facemask.jpg - as ./images\\person_wearing_face_mask\\7c541bdccb.jpg\n",
      "SUCCESS - saved https://encrypted-tbn0.gstatic.com/images?q=tbn:ANd9GcTsepv9cnGLs2N6uEVitmKf2GSl3aWKUB-OUw&usqp=CAU - as ./images\\person_wearing_face_mask\\49cad2cba0.jpg\n",
      "SUCCESS - saved https://www.osfhealthcare.org/blog/wp-content/uploads/2020/04/face-masking.jpg - as ./images\\person_wearing_face_mask\\548389a274.jpg\n",
      "SUCCESS - saved https://www.statnews.com/wp-content/uploads/2020/05/AdobeStock_345360112-645x645.jpeg - as ./images\\person_wearing_face_mask\\0033bb6e95.jpg\n",
      "SUCCESS - saved https://www.osfhealthcare.org/blog/wp-content/uploads/2020/07/mask-tips-ft-765x310.jpg - as ./images\\person_wearing_face_mask\\51889153dc.jpg\n",
      "SUCCESS - saved https://encrypted-tbn0.gstatic.com/images?q=tbn:ANd9GcQYNaXwAfFJZZXAQCFdaZB-GNw7heST9CNIpg&usqp=CAU - as ./images\\person_wearing_face_mask\\5b73ed9725.jpg\n",
      "SUCCESS - saved https://cardiff.imgix.net/__data/assets/image/0019/2492002/face-mask-image.jpg?w=873&h=491&fit=crop&q=60&auto=format - as ./images\\person_wearing_face_mask\\4ab6bc515e.jpg\n",
      "SUCCESS - saved https://encrypted-tbn0.gstatic.com/images?q=tbn:ANd9GcQh9rqwNuqet6h-Gv2yzEL4WDA2kRHLZ51S9A&usqp=CAU - as ./images\\person_wearing_face_mask\\45ba14634e.jpg\n",
      "SUCCESS - saved https://encrypted-tbn0.gstatic.com/images?q=tbn:ANd9GcTb6DaLNesd59iSUzilsKQs74m5q82yRBlUWg&usqp=CAU - as ./images\\person_wearing_face_mask\\c2e7f6f8bf.jpg\n",
      "SUCCESS - saved https://encrypted-tbn0.gstatic.com/images?q=tbn:ANd9GcQz6PnpiZX-t_i3UQWaUNsmS01luRXWJ_OJxg&usqp=CAU - as ./images\\person_wearing_face_mask\\be878206cc.jpg\n",
      "SUCCESS - saved https://i0.wp.com/post.medicalnewstoday.com/wp-content/uploads/sites/3/2020/05/GettyImages-1213801555_header-1024x575.jpg?w=1155&h=1528 - as ./images\\person_wearing_face_mask\\02283e0e64.jpg\n",
      "SUCCESS - saved https://encrypted-tbn0.gstatic.com/images?q=tbn:ANd9GcTKYio_0nzkf4wx40ZJ6X5mDgw7tdp7HLJN1A&usqp=CAU - as ./images\\person_wearing_face_mask\\a4e88c52d8.jpg\n",
      "SUCCESS - saved https://encrypted-tbn0.gstatic.com/images?q=tbn:ANd9GcS3nt0HuiqsUma82HkzOtqkoBs4DSbT4-QOJQ&usqp=CAU - as ./images\\person_wearing_face_mask\\10e98fc487.jpg\n",
      "SUCCESS - saved https://i0.wp.com/post.medicalnewstoday.com/wp-content/uploads/sites/3/2020/04/iStock-1202072951-1024x683.jpg?w=1155&h=2969 - as ./images\\person_wearing_face_mask\\9318d36800.jpg\n",
      "SUCCESS - saved https://ychef.files.bbci.co.uk/976x549/p0953bhf.jpg - as ./images\\person_wearing_face_mask\\a7865826d4.jpg\n",
      "SUCCESS - saved https://d2ubrtwy6ww54e.cloudfront.net/www.uvmhealth.org/assets/2020-11/uvmhn-staying-healthy-coronavirus-man-wearing-mask.jpg - as ./images\\person_wearing_face_mask\\8138e78d17.jpg\n",
      "SUCCESS - saved https://media.istockphoto.com/photos/latin-man-wearing-face-mask-in-city-picture-id1253339890 - as ./images\\person_wearing_face_mask\\6a8b5dfa95.jpg\n",
      "SUCCESS - saved https://images.theconversation.com/files/346828/original/file-20200710-18-1z13t1e.jpg?ixlib=rb-1.1.0&q=45&auto=format&w=1200&h=1200.0&fit=crop - as ./images\\person_wearing_face_mask\\a5ef7f40cc.jpg\n",
      "SUCCESS - saved https://img.webmd.com/dtmcms/live/webmd/consumer_assets/site_images/article_thumbnails/news/2020/03_2020/covid19/1800x1200_covid19_5.jpg?resize=*:350px - as ./images\\person_wearing_face_mask\\70769ee93d.jpg\n",
      "SUCCESS - saved https://images.theconversation.com/files/326359/original/file-20200408-44160-1qpyrm3.jpg?ixlib=rb-1.1.0&q=45&auto=format&w=1200&h=1200.0&fit=crop - as ./images\\person_wearing_face_mask\\9fb267a5d0.jpg\n",
      "SUCCESS - saved https://thumbor.forbes.com/thumbor/fit-in/1200x0/filters%3Aformat%28jpg%29/https%3A%2F%2Fspecials-images.forbesimg.com%2Fimageserve%2F1214079235%2F0x0.jpg%3FcropX1%3D0%26cropX2%3D5140%26cropY1%3D261%26cropY2%3D3152 - as ./images\\person_wearing_face_mask\\acef3727c9.jpg\n",
      "SUCCESS - saved https://encrypted-tbn0.gstatic.com/images?q=tbn:ANd9GcTvbTvrjphgT0ws2B608mMtfV12ey9uG871AQ&usqp=CAU - as ./images\\person_wearing_face_mask\\e6b46e3f3d.jpg\n",
      "SUCCESS - saved https://www.healio.com/~/media/slack-news/fm_im/misc/infographics/2020/august/pc0820bailey_graphic_02.jpg - as ./images\\person_wearing_face_mask\\1cebb21c59.jpg\n",
      "SUCCESS - saved https://encrypted-tbn0.gstatic.com/images?q=tbn:ANd9GcTTfBtYJm4-7ouqi0jr1-kFcep7JVTud31RnQ&usqp=CAU - as ./images\\person_wearing_face_mask\\6876d4b35d.jpg\n",
      "SUCCESS - saved https://encrypted-tbn0.gstatic.com/images?q=tbn:ANd9GcRM7mZeDg4WEaeuPQqZNvrLTdtloFxmSDy1Ew&usqp=CAU - as ./images\\person_wearing_face_mask\\80762993ba.jpg\n",
      "SUCCESS - saved https://encrypted-tbn0.gstatic.com/images?q=tbn:ANd9GcSJupLZ_lrWrZGTQ_TLmGod9_9qyl-2lQ-UMQ&usqp=CAU - as ./images\\person_wearing_face_mask\\96d2a139b4.jpg\n"
     ]
    },
    {
     "name": "stdout",
     "output_type": "stream",
     "text": [
      "SUCCESS - saved https://encrypted-tbn0.gstatic.com/images?q=tbn:ANd9GcSIjOqxqgH4MKgqgspj4n8EAsrNm17S3f0QIw&usqp=CAU - as ./images\\person_wearing_face_mask\\6034616e12.jpg\n",
      "SUCCESS - saved https://encrypted-tbn0.gstatic.com/images?q=tbn:ANd9GcSTfoGWa65BWuerNPb3T9zi60VvAYa9FoYxIw&usqp=CAU - as ./images\\person_wearing_face_mask\\a14d271b1f.jpg\n",
      "SUCCESS - saved https://encrypted-tbn0.gstatic.com/images?q=tbn:ANd9GcRvAET3hltcjC1gD5QvuVamrE6fMRYg4YVkvQ&usqp=CAU - as ./images\\person_wearing_face_mask\\960d83dcc2.jpg\n",
      "SUCCESS - saved https://vitalrecord.tamhsc.edu/wp-content/uploads/2020/04/woman-wearing-face-mask-3902882-1100x625.jpg - as ./images\\person_wearing_face_mask\\82a8b5c26c.jpg\n",
      "SUCCESS - saved https://www.onemedical.com/media/images/woman-wearing-mask.original.jpg - as ./images\\person_wearing_face_mask\\2c32d3b869.jpg\n"
     ]
    }
   ],
   "source": [
    "serch_term = 'person wearing face mask'\n",
    "search_and_download(search_term=serch_term, driver_path=DRIVER_PATH)"
   ]
  }
 ],
 "metadata": {
  "kernelspec": {
   "display_name": "Python 3",
   "language": "python",
   "name": "python3"
  },
  "language_info": {
   "codemirror_mode": {
    "name": "ipython",
    "version": 3
   },
   "file_extension": ".py",
   "mimetype": "text/x-python",
   "name": "python",
   "nbconvert_exporter": "python",
   "pygments_lexer": "ipython3",
   "version": "3.8.8"
  }
 },
 "nbformat": 4,
 "nbformat_minor": 5
}
