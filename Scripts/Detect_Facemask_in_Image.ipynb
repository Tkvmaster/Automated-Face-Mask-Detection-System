{
 "cells": [
  {
   "cell_type": "code",
   "execution_count": 1,
   "id": "59dbcc75",
   "metadata": {},
   "outputs": [],
   "source": [
    "import cv2\n",
    "import numpy as np\n",
    "from mtcnn.mtcnn import MTCNN\n",
    "from tensorflow.keras.models import load_model\n",
    "from tensorflow.keras.applications.mobilenet_v2 import preprocess_input\n",
    "from tensorflow.keras.preprocessing.image import img_to_array\n",
    "from mtcnn import MTCNN\n",
    "\n",
    "import os"
   ]
  },
  {
   "cell_type": "code",
   "execution_count": 2,
   "id": "ec6038f0",
   "metadata": {},
   "outputs": [],
   "source": [
    "# loading face mask recognition model\n",
    "maskNet = load_model(\"face_mask_detector.model\")"
   ]
  },
  {
   "cell_type": "code",
   "execution_count": 3,
   "id": "a73e43b5",
   "metadata": {},
   "outputs": [],
   "source": [
    "def detect_and_predict_mask(frame, masknet):\n",
    "    \n",
    "    faces, locs, preds = [], [], []\n",
    "\n",
    "    img = cv2.cvtColor(frame, cv2.COLOR_BGR2RGB)\n",
    "    detector = MTCNN()\n",
    "    results = detector.detect_faces(img)\n",
    "    for result in results:\n",
    "        if result['confidence']>0.5:\n",
    "            print(result['confidence'])\n",
    "            box = result['box']\n",
    "\n",
    "            face = img[box[1]:box[1]+box[3], box[0]:box[0]+box[2]]\n",
    "            face = cv2.resize(face, (224, 224))\n",
    "            face = img_to_array(face)\n",
    "            face = preprocess_input(face)\n",
    "\n",
    "            # add the face and bounding boxes to their respective lists\n",
    "            faces.append(face)\n",
    "            locs.append((box[0], box[1], box[0]+box[2], box[1]+box[3]))\n",
    "\n",
    "    # only make a predictions if at least one face was detected\n",
    "    if len(faces) > 0:\n",
    "        faces = np.array(faces, dtype=\"float32\")\n",
    "        preds = masknet.predict(faces, batch_size=32)\n",
    "\n",
    "    return (locs, preds)"
   ]
  },
  {
   "cell_type": "code",
   "execution_count": 4,
   "id": "029972ed",
   "metadata": {},
   "outputs": [
    {
     "name": "stdout",
     "output_type": "stream",
     "text": [
      "0.9999997615814209\n",
      "0.9999270439147949\n",
      "0.9981012940406799\n",
      "0.9969972372055054\n",
      "0.7064287066459656\n",
      "[1.7169102e-03 2.3051084e-04 9.9805260e-01]\n",
      "[2.6668780e-04 2.0278508e-03 9.9770552e-01]\n",
      "[0.00964502 0.9746878  0.01566717]\n",
      "[0.14551875 0.8458261  0.00865513]\n",
      "[3.7744903e-04 1.0097603e-03 9.9861276e-01]\n"
     ]
    }
   ],
   "source": [
    "frame = cv2.imread(r\"C:\\Users\\tapen\\Pictures\\face_mask_detection_annoted_dataset\\images\\maksssksksss5.png\")\n",
    "# frame = cv2.imread('pic2.jpg')\n",
    "\n",
    "(locs, preds) = detect_and_predict_mask(frame, maskNet)\n",
    "\n",
    "# loop over the detected face locations and their corresponding\n",
    "# locations\n",
    "for (box, pred) in zip(locs, preds):\n",
    "    # unpack the bounding box and predictions\n",
    "    (startX, startY, endX, endY) = box\n",
    "    (incorrect, mask, withoutMask) = pred\n",
    "\n",
    "    # determine the class label and color we'll use to draw\n",
    "    # the bounding box and text\n",
    "    print(pred)\n",
    "    if max(pred) == mask :\n",
    "        label = \"With Mask\"\n",
    "        color = (0, 255, 0)\n",
    "    elif max(pred) == withoutMask:\n",
    "        label = \"Without Mask\"\n",
    "        color = (0, 0, 255)\n",
    "    else:\n",
    "        label = \"Wearing Mask Incorrectly\"\n",
    "        color = (0, 255, 255)\n",
    "\n",
    "    # include the probability in the label\n",
    "    label = \"{}: {:.2f}%\".format(label, max(pred) * 100)\n",
    "\n",
    "    # display the label and bounding box rectangle on the output frame\n",
    "    cv2.putText(frame, label, (startX, startY - 10), cv2.FONT_HERSHEY_SIMPLEX,0.4,(255,255,255),1)\n",
    "    cv2.rectangle(frame, (startX, startY), (endX, endY), color, 2)\n",
    "\n",
    "# show the output frame\n",
    "cv2.imshow(\"Frame\", frame)\n",
    "\n",
    "k = cv2.waitKey(0)\n",
    "if k == ord('q'):\n",
    "    cv2.destroyAllWindows()\n",
    "cv2.destroyAllWindows()"
   ]
  },
  {
   "cell_type": "code",
   "execution_count": null,
   "id": "b82146fd",
   "metadata": {},
   "outputs": [],
   "source": []
  }
 ],
 "metadata": {
  "kernelspec": {
   "display_name": "Python 3",
   "language": "python",
   "name": "python3"
  },
  "language_info": {
   "codemirror_mode": {
    "name": "ipython",
    "version": 3
   },
   "file_extension": ".py",
   "mimetype": "text/x-python",
   "name": "python",
   "nbconvert_exporter": "python",
   "pygments_lexer": "ipython3",
   "version": "3.8.8"
  }
 },
 "nbformat": 4,
 "nbformat_minor": 5
}
